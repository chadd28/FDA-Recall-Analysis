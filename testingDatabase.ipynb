{
 "cells": [
  {
   "cell_type": "code",
   "execution_count": 2,
   "metadata": {},
   "outputs": [
    {
     "name": "stderr",
     "output_type": "stream",
     "text": [
      "/Users/chaddiao/Desktop/Python Projects/OpenFDA API/venv/lib/python3.9/site-packages/urllib3/__init__.py:35: NotOpenSSLWarning: urllib3 v2 only supports OpenSSL 1.1.1+, currently the 'ssl' module is compiled with 'LibreSSL 2.8.3'. See: https://github.com/urllib3/urllib3/issues/3020\n",
      "  warnings.warn(\n"
     ]
    }
   ],
   "source": [
    "import requests\n",
    "import pandas as pd"
   ]
  },
  {
   "cell_type": "code",
   "execution_count": 3,
   "metadata": {},
   "outputs": [
    {
     "data": {
      "text/html": [
       "<div>\n",
       "<style scoped>\n",
       "    .dataframe tbody tr th:only-of-type {\n",
       "        vertical-align: middle;\n",
       "    }\n",
       "\n",
       "    .dataframe tbody tr th {\n",
       "        vertical-align: top;\n",
       "    }\n",
       "\n",
       "    .dataframe thead th {\n",
       "        text-align: right;\n",
       "    }\n",
       "</style>\n",
       "<table border=\"1\" class=\"dataframe\">\n",
       "  <thead>\n",
       "    <tr style=\"text-align: right;\">\n",
       "      <th></th>\n",
       "      <th>FEI Number</th>\n",
       "      <th>Recalling Firm Name</th>\n",
       "      <th>Product Type</th>\n",
       "      <th>Product Classification</th>\n",
       "      <th>Status</th>\n",
       "      <th>Distribution Pattern</th>\n",
       "      <th>Recalling Firm City</th>\n",
       "      <th>Recalling Firm State</th>\n",
       "      <th>Recalling Firm Country</th>\n",
       "      <th>Center Classification Date</th>\n",
       "      <th>Reason for Recall</th>\n",
       "      <th>Product Description</th>\n",
       "      <th>Event ID</th>\n",
       "      <th>Event Classification</th>\n",
       "      <th>Product ID</th>\n",
       "      <th>Center</th>\n",
       "      <th>Recall Details</th>\n",
       "    </tr>\n",
       "  </thead>\n",
       "  <tbody>\n",
       "    <tr>\n",
       "      <th>0</th>\n",
       "      <td>3004497354</td>\n",
       "      <td>GE Healthcare GmbH</td>\n",
       "      <td>Devices</td>\n",
       "      <td>Class II</td>\n",
       "      <td>Ongoing</td>\n",
       "      <td>US Nationwide distribution including in the st...</td>\n",
       "      <td>Munich</td>\n",
       "      <td>-</td>\n",
       "      <td>Germany</td>\n",
       "      <td>09/13/2024</td>\n",
       "      <td>The National Institute of Standards and Techno...</td>\n",
       "      <td>ViewPoint; system, imaging processing, radiolo...</td>\n",
       "      <td>95167</td>\n",
       "      <td>Class II</td>\n",
       "      <td>209643</td>\n",
       "      <td>CDRH</td>\n",
       "      <td>https://www.accessdata.fda.gov/scripts/ires/?P...</td>\n",
       "    </tr>\n",
       "    <tr>\n",
       "      <th>1</th>\n",
       "      <td>3004497354</td>\n",
       "      <td>GE Healthcare GmbH</td>\n",
       "      <td>Devices</td>\n",
       "      <td>Class II</td>\n",
       "      <td>Ongoing</td>\n",
       "      <td>US Nationwide distribution including in the st...</td>\n",
       "      <td>Munich</td>\n",
       "      <td>-</td>\n",
       "      <td>Germany</td>\n",
       "      <td>09/13/2024</td>\n",
       "      <td>The National Institute of Standards and Techno...</td>\n",
       "      <td>ViewPoint 6, Model Numbers:  a) H47581RJ, b) H...</td>\n",
       "      <td>95167</td>\n",
       "      <td>Class II</td>\n",
       "      <td>209644</td>\n",
       "      <td>CDRH</td>\n",
       "      <td>https://www.accessdata.fda.gov/scripts/ires/?P...</td>\n",
       "    </tr>\n",
       "    <tr>\n",
       "      <th>2</th>\n",
       "      <td>2523676</td>\n",
       "      <td>B. Braun Medical, Inc.</td>\n",
       "      <td>Devices</td>\n",
       "      <td>Class II</td>\n",
       "      <td>Ongoing</td>\n",
       "      <td>US Nationwide distribution.</td>\n",
       "      <td>Allentown</td>\n",
       "      <td>Pennsylvania</td>\n",
       "      <td>United States</td>\n",
       "      <td>09/13/2024</td>\n",
       "      <td>Potential for product leakage from the Spin Lo...</td>\n",
       "      <td>AET36 ANESTH EXT SET - Anesthesia Extension Se...</td>\n",
       "      <td>95153</td>\n",
       "      <td>Class II</td>\n",
       "      <td>209610</td>\n",
       "      <td>CDRH</td>\n",
       "      <td>https://www.accessdata.fda.gov/scripts/ires/?P...</td>\n",
       "    </tr>\n",
       "    <tr>\n",
       "      <th>3</th>\n",
       "      <td>3002095335</td>\n",
       "      <td>Boston Scientific Corporation</td>\n",
       "      <td>Devices</td>\n",
       "      <td>Class II</td>\n",
       "      <td>Ongoing</td>\n",
       "      <td>US, Colombia, Philippines, Russia</td>\n",
       "      <td>Maple Grove</td>\n",
       "      <td>Minnesota</td>\n",
       "      <td>United States</td>\n",
       "      <td>09/13/2024</td>\n",
       "      <td>There is the potential for holes in the clear ...</td>\n",
       "      <td>Flexima APDL Drainage Catheter System and Kit,...</td>\n",
       "      <td>95186</td>\n",
       "      <td>Class II</td>\n",
       "      <td>209691</td>\n",
       "      <td>CDRH</td>\n",
       "      <td>https://www.accessdata.fda.gov/scripts/ires/?P...</td>\n",
       "    </tr>\n",
       "    <tr>\n",
       "      <th>4</th>\n",
       "      <td>3002095335</td>\n",
       "      <td>Boston Scientific Corporation</td>\n",
       "      <td>Devices</td>\n",
       "      <td>Class II</td>\n",
       "      <td>Ongoing</td>\n",
       "      <td>US, Colombia, Philippines, Russia</td>\n",
       "      <td>Maple Grove</td>\n",
       "      <td>Minnesota</td>\n",
       "      <td>United States</td>\n",
       "      <td>09/13/2024</td>\n",
       "      <td>There is the potential for holes in the clear ...</td>\n",
       "      <td>Flexima Regular Kit Biliary Catheter System Ki...</td>\n",
       "      <td>95186</td>\n",
       "      <td>Class II</td>\n",
       "      <td>209692</td>\n",
       "      <td>CDRH</td>\n",
       "      <td>https://www.accessdata.fda.gov/scripts/ires/?P...</td>\n",
       "    </tr>\n",
       "  </tbody>\n",
       "</table>\n",
       "</div>"
      ],
      "text/plain": [
       "   FEI Number            Recalling Firm Name Product Type  \\\n",
       "0  3004497354             GE Healthcare GmbH      Devices   \n",
       "1  3004497354             GE Healthcare GmbH      Devices   \n",
       "2     2523676         B. Braun Medical, Inc.      Devices   \n",
       "3  3002095335  Boston Scientific Corporation      Devices   \n",
       "4  3002095335  Boston Scientific Corporation      Devices   \n",
       "\n",
       "  Product Classification   Status  \\\n",
       "0               Class II  Ongoing   \n",
       "1               Class II  Ongoing   \n",
       "2               Class II  Ongoing   \n",
       "3               Class II  Ongoing   \n",
       "4               Class II  Ongoing   \n",
       "\n",
       "                                Distribution Pattern Recalling Firm City  \\\n",
       "0  US Nationwide distribution including in the st...              Munich   \n",
       "1  US Nationwide distribution including in the st...              Munich   \n",
       "2                        US Nationwide distribution.           Allentown   \n",
       "3                  US, Colombia, Philippines, Russia         Maple Grove   \n",
       "4                  US, Colombia, Philippines, Russia         Maple Grove   \n",
       "\n",
       "  Recalling Firm State Recalling Firm Country Center Classification Date  \\\n",
       "0                    -                Germany                 09/13/2024   \n",
       "1                    -                Germany                 09/13/2024   \n",
       "2         Pennsylvania          United States                 09/13/2024   \n",
       "3            Minnesota          United States                 09/13/2024   \n",
       "4            Minnesota          United States                 09/13/2024   \n",
       "\n",
       "                                   Reason for Recall  \\\n",
       "0  The National Institute of Standards and Techno...   \n",
       "1  The National Institute of Standards and Techno...   \n",
       "2  Potential for product leakage from the Spin Lo...   \n",
       "3  There is the potential for holes in the clear ...   \n",
       "4  There is the potential for holes in the clear ...   \n",
       "\n",
       "                                 Product Description  Event ID  \\\n",
       "0  ViewPoint; system, imaging processing, radiolo...     95167   \n",
       "1  ViewPoint 6, Model Numbers:  a) H47581RJ, b) H...     95167   \n",
       "2  AET36 ANESTH EXT SET - Anesthesia Extension Se...     95153   \n",
       "3  Flexima APDL Drainage Catheter System and Kit,...     95186   \n",
       "4  Flexima Regular Kit Biliary Catheter System Ki...     95186   \n",
       "\n",
       "  Event Classification  Product ID Center  \\\n",
       "0             Class II      209643   CDRH   \n",
       "1             Class II      209644   CDRH   \n",
       "2             Class II      209610   CDRH   \n",
       "3             Class II      209691   CDRH   \n",
       "4             Class II      209692   CDRH   \n",
       "\n",
       "                                      Recall Details  \n",
       "0  https://www.accessdata.fda.gov/scripts/ires/?P...  \n",
       "1  https://www.accessdata.fda.gov/scripts/ires/?P...  \n",
       "2  https://www.accessdata.fda.gov/scripts/ires/?P...  \n",
       "3  https://www.accessdata.fda.gov/scripts/ires/?P...  \n",
       "4  https://www.accessdata.fda.gov/scripts/ires/?P...  "
      ]
     },
     "execution_count": 3,
     "metadata": {},
     "output_type": "execute_result"
    }
   ],
   "source": [
    "df = pd.DataFrame(pd.read_csv(\"FDA_recalls_20-24.csv\"))\n",
    "df.head()"
   ]
  },
  {
   "cell_type": "code",
   "execution_count": 3,
   "metadata": {},
   "outputs": [
    {
     "name": "stdout",
     "output_type": "stream",
     "text": [
      "Index(['FEI Number', 'Recalling Firm Name', 'Product Type',\n",
      "       'Product Classification', 'Status', 'Distribution Pattern',\n",
      "       'Recalling Firm City', 'Recalling Firm State', 'Recalling Firm Country',\n",
      "       'Center Classification Date', 'Reason for Recall',\n",
      "       'Product Description', 'Event ID', 'Event Classification', 'Product ID',\n",
      "       'Center', 'Recall Details'],\n",
      "      dtype='object')\n"
     ]
    }
   ],
   "source": [
    "print(df.columns)"
   ]
  },
  {
   "cell_type": "code",
   "execution_count": 153,
   "metadata": {},
   "outputs": [
    {
     "data": {
      "text/html": [
       "<div>\n",
       "<style scoped>\n",
       "    .dataframe tbody tr th:only-of-type {\n",
       "        vertical-align: middle;\n",
       "    }\n",
       "\n",
       "    .dataframe tbody tr th {\n",
       "        vertical-align: top;\n",
       "    }\n",
       "\n",
       "    .dataframe thead th {\n",
       "        text-align: right;\n",
       "    }\n",
       "</style>\n",
       "<table border=\"1\" class=\"dataframe\">\n",
       "  <thead>\n",
       "    <tr style=\"text-align: right;\">\n",
       "      <th></th>\n",
       "      <th>FEI Number</th>\n",
       "      <th>Recalling Firm Name</th>\n",
       "      <th>Product Type</th>\n",
       "      <th>Product Classification</th>\n",
       "      <th>Status</th>\n",
       "      <th>Distribution Pattern</th>\n",
       "      <th>Recalling Firm City</th>\n",
       "      <th>Recalling Firm State</th>\n",
       "      <th>Recalling Firm Country</th>\n",
       "      <th>Center Classification Date</th>\n",
       "      <th>Reason for Recall</th>\n",
       "      <th>Product Description</th>\n",
       "      <th>Event ID</th>\n",
       "      <th>Event Classification</th>\n",
       "      <th>Product ID</th>\n",
       "      <th>Center</th>\n",
       "      <th>Recall Details</th>\n",
       "    </tr>\n",
       "  </thead>\n",
       "  <tbody>\n",
       "    <tr>\n",
       "      <th>24</th>\n",
       "      <td>3012307300</td>\n",
       "      <td>Smiths Medical ASD Inc.</td>\n",
       "      <td>Devices</td>\n",
       "      <td>Class I</td>\n",
       "      <td>Ongoing</td>\n",
       "      <td>Worldwide</td>\n",
       "      <td>Minneapolis</td>\n",
       "      <td>Minnesota</td>\n",
       "      <td>United States</td>\n",
       "      <td>09/11/2024</td>\n",
       "      <td>There is the potential for a disconnection of ...</td>\n",
       "      <td>smiths medical portex BLUselect, tracheostomy ...</td>\n",
       "      <td>95016</td>\n",
       "      <td>Class I</td>\n",
       "      <td>209111</td>\n",
       "      <td>CDRH</td>\n",
       "      <td>https://www.accessdata.fda.gov/scripts/ires/?P...</td>\n",
       "    </tr>\n",
       "    <tr>\n",
       "      <th>25</th>\n",
       "      <td>3012307300</td>\n",
       "      <td>Smiths Medical ASD Inc.</td>\n",
       "      <td>Devices</td>\n",
       "      <td>Class I</td>\n",
       "      <td>Ongoing</td>\n",
       "      <td>Worldwide</td>\n",
       "      <td>Minneapolis</td>\n",
       "      <td>Minnesota</td>\n",
       "      <td>United States</td>\n",
       "      <td>09/11/2024</td>\n",
       "      <td>There is the potential for a disconnection of ...</td>\n",
       "      <td>smiths medical portex BLUgriggs Percutaneous D...</td>\n",
       "      <td>95016</td>\n",
       "      <td>Class I</td>\n",
       "      <td>209113</td>\n",
       "      <td>CDRH</td>\n",
       "      <td>https://www.accessdata.fda.gov/scripts/ires/?P...</td>\n",
       "    </tr>\n",
       "    <tr>\n",
       "      <th>26</th>\n",
       "      <td>3012307300</td>\n",
       "      <td>Smiths Medical ASD Inc.</td>\n",
       "      <td>Devices</td>\n",
       "      <td>Class I</td>\n",
       "      <td>Ongoing</td>\n",
       "      <td>Worldwide</td>\n",
       "      <td>Minneapolis</td>\n",
       "      <td>Minnesota</td>\n",
       "      <td>United States</td>\n",
       "      <td>09/11/2024</td>\n",
       "      <td>There is the potential for a disconnection of ...</td>\n",
       "      <td>smiths medical portex BLUperc Percutaneous Dil...</td>\n",
       "      <td>95016</td>\n",
       "      <td>Class I</td>\n",
       "      <td>209114</td>\n",
       "      <td>CDRH</td>\n",
       "      <td>https://www.accessdata.fda.gov/scripts/ires/?P...</td>\n",
       "    </tr>\n",
       "    <tr>\n",
       "      <th>27</th>\n",
       "      <td>3012307300</td>\n",
       "      <td>Smiths Medical ASD Inc.</td>\n",
       "      <td>Devices</td>\n",
       "      <td>Class I</td>\n",
       "      <td>Ongoing</td>\n",
       "      <td>Worldwide</td>\n",
       "      <td>Minneapolis</td>\n",
       "      <td>Minnesota</td>\n",
       "      <td>United States</td>\n",
       "      <td>09/11/2024</td>\n",
       "      <td>There is a potential for inadvertent tidally v...</td>\n",
       "      <td>Pneupac paraPAC plus 300 ventilator kit, REF P...</td>\n",
       "      <td>95025</td>\n",
       "      <td>Class I</td>\n",
       "      <td>209122</td>\n",
       "      <td>CDRH</td>\n",
       "      <td>https://www.accessdata.fda.gov/scripts/ires/?P...</td>\n",
       "    </tr>\n",
       "    <tr>\n",
       "      <th>28</th>\n",
       "      <td>3012307300</td>\n",
       "      <td>Smiths Medical ASD Inc.</td>\n",
       "      <td>Devices</td>\n",
       "      <td>Class I</td>\n",
       "      <td>Ongoing</td>\n",
       "      <td>Worldwide</td>\n",
       "      <td>Minneapolis</td>\n",
       "      <td>Minnesota</td>\n",
       "      <td>United States</td>\n",
       "      <td>09/11/2024</td>\n",
       "      <td>There is a potential for inadvertent tidally v...</td>\n",
       "      <td>Pneupac paraPAC plus 310 ventilator kit with P...</td>\n",
       "      <td>95025</td>\n",
       "      <td>Class I</td>\n",
       "      <td>209123</td>\n",
       "      <td>CDRH</td>\n",
       "      <td>https://www.accessdata.fda.gov/scripts/ires/?P...</td>\n",
       "    </tr>\n",
       "  </tbody>\n",
       "</table>\n",
       "</div>"
      ],
      "text/plain": [
       "    FEI Number      Recalling Firm Name Product Type Product Classification  \\\n",
       "24  3012307300  Smiths Medical ASD Inc.      Devices                Class I   \n",
       "25  3012307300  Smiths Medical ASD Inc.      Devices                Class I   \n",
       "26  3012307300  Smiths Medical ASD Inc.      Devices                Class I   \n",
       "27  3012307300  Smiths Medical ASD Inc.      Devices                Class I   \n",
       "28  3012307300  Smiths Medical ASD Inc.      Devices                Class I   \n",
       "\n",
       "     Status Distribution Pattern Recalling Firm City Recalling Firm State  \\\n",
       "24  Ongoing            Worldwide         Minneapolis            Minnesota   \n",
       "25  Ongoing            Worldwide         Minneapolis            Minnesota   \n",
       "26  Ongoing            Worldwide         Minneapolis            Minnesota   \n",
       "27  Ongoing            Worldwide         Minneapolis            Minnesota   \n",
       "28  Ongoing            Worldwide         Minneapolis            Minnesota   \n",
       "\n",
       "   Recalling Firm Country Center Classification Date  \\\n",
       "24          United States                 09/11/2024   \n",
       "25          United States                 09/11/2024   \n",
       "26          United States                 09/11/2024   \n",
       "27          United States                 09/11/2024   \n",
       "28          United States                 09/11/2024   \n",
       "\n",
       "                                    Reason for Recall  \\\n",
       "24  There is the potential for a disconnection of ...   \n",
       "25  There is the potential for a disconnection of ...   \n",
       "26  There is the potential for a disconnection of ...   \n",
       "27  There is a potential for inadvertent tidally v...   \n",
       "28  There is a potential for inadvertent tidally v...   \n",
       "\n",
       "                                  Product Description  Event ID  \\\n",
       "24  smiths medical portex BLUselect, tracheostomy ...     95016   \n",
       "25  smiths medical portex BLUgriggs Percutaneous D...     95016   \n",
       "26  smiths medical portex BLUperc Percutaneous Dil...     95016   \n",
       "27  Pneupac paraPAC plus 300 ventilator kit, REF P...     95025   \n",
       "28  Pneupac paraPAC plus 310 ventilator kit with P...     95025   \n",
       "\n",
       "   Event Classification  Product ID Center  \\\n",
       "24              Class I      209111   CDRH   \n",
       "25              Class I      209113   CDRH   \n",
       "26              Class I      209114   CDRH   \n",
       "27              Class I      209122   CDRH   \n",
       "28              Class I      209123   CDRH   \n",
       "\n",
       "                                       Recall Details  \n",
       "24  https://www.accessdata.fda.gov/scripts/ires/?P...  \n",
       "25  https://www.accessdata.fda.gov/scripts/ires/?P...  \n",
       "26  https://www.accessdata.fda.gov/scripts/ires/?P...  \n",
       "27  https://www.accessdata.fda.gov/scripts/ires/?P...  \n",
       "28  https://www.accessdata.fda.gov/scripts/ires/?P...  "
      ]
     },
     "execution_count": 153,
     "metadata": {},
     "output_type": "execute_result"
    }
   ],
   "source": [
    "# these are the most severe recalls\n",
    "ClassI_df = df[df['Event Classification'] == 'Class I']\n",
    "ClassI_df.head()"
   ]
  },
  {
   "cell_type": "code",
   "execution_count": null,
   "metadata": {},
   "outputs": [],
   "source": [
    "#see all unique values of reason for recall column\n",
    "recall_reasons = ClassI_df['Reason for Recall'].unique().tolist()\n",
    "recall_reasons"
   ]
  },
  {
   "cell_type": "markdown",
   "metadata": {},
   "source": [
    "### SpaCy NLP"
   ]
  },
  {
   "cell_type": "code",
   "execution_count": 6,
   "metadata": {},
   "outputs": [],
   "source": [
    "import spacy\n",
    "\n",
    "# Load spaCy language model\n",
    "nlp = spacy.load(\"en_core_web_md\")\n",
    "\n",
    "# Function to categorize text using spaCy similarity with multiple keywords\n",
    "def spacy_categorize(text, exact_match_keywords, category_keywords, threshold=0.6):\n",
    "    # first check for exact matches\n",
    "    for keywords, category in exact_match_keywords.items():\n",
    "        for keyword in keywords:\n",
    "            if keyword in text.lower():\n",
    "                #print(f'found exact match of \"{keyword}\" in the text')\n",
    "                return category, 1.0\n",
    "    \n",
    "    doc = nlp(text)\n",
    "    best_match = None\n",
    "    highest_score = 0  \n",
    "\n",
    "    # If no exact match, use similarity based categroization\n",
    "    # Loop over each category and its associated list of keywords\n",
    "    for keywords, category in category_keywords.items():\n",
    "        for keyword in keywords:\n",
    "            keyword_doc = nlp(keyword)\n",
    "            similarity = doc.similarity(keyword_doc)  # Get similarity score\n",
    "            if similarity > highest_score:\n",
    "                highest_score = similarity\n",
    "                best_match = category\n",
    "\n",
    "    # Return the best category match and the similarity score\n",
    "    if highest_score >= threshold:\n",
    "        return best_match, highest_score\n",
    "    else:\n",
    "        return \"Other\", highest_score\n",
    "    \n"
   ]
  },
  {
   "cell_type": "markdown",
   "metadata": {},
   "source": [
    "### Recall Categorization"
   ]
  },
  {
   "cell_type": "code",
   "execution_count": null,
   "metadata": {},
   "outputs": [
    {
     "name": "stdout",
     "output_type": "stream",
     "text": [
      "Manufacturing Defects 1.0\n"
     ]
    }
   ],
   "source": [
    "exact_match_keywords = {\n",
    "    (\"manufacturing defect\", \"tear\", \"catheter\", \"connector\"): \"Manufacturing Defects\",\n",
    "    (\"software update\", \"security issue\", \"manual update\"): \"Software Issues\",\n",
    "    (\"design\", \"battery\", \"fracture\"): \"Design/Component Flaws\",\n",
    "    (\"sterility\", \"contamination\"): \"Contamination or Sterility Issues\",\n",
    "    (\"expire\", \"expiration\"): \"Expiry Issues\",\n",
    "    (\"function\", \"functional\", \"malfunction\", \"operation\", \"operational\"): \"Operation or Functional Issues\"\n",
    "\n",
    "}\n",
    "\n",
    "category_keywords = {\n",
    "    (\"disconnection\", \"manufacturing defect\", \"failure\", \"defect\", \"tear\", \"fault\", \"catheter\", \"detachment\", \"malformed\"): \"Manufacturing Defects\",\n",
    "    (\"software update\", \"software version\", \"software issue\", \"security\", \"user manual\"): \"Software Issues\",\n",
    "    (\"design flaw\", \"electromagnetic compatibility\", \"heating issues\", \"heat retention\", \"fracture\", \"improper ventilation\", \"overheat\", \"connector problem\", \"battery\", \"component failure\", \"compromise integrity\"): \"Design/Component Flaws\",\n",
    "    (\"regulatory\", \"non-compliance\" \"safety standard violation\"): \"Compliance Violations\",\n",
    "    (\"sterility\", \"contamination\", \"quality issues\"): \"Contamination or Sterility Issues\",\n",
    "    (\"expiration date\", \"outdated components\"): \"Expiry Issues\",\n",
    "    (\"operational failure\", \"incorrect functioning\"): \"Operation or Functional Issues\"\n",
    "}\n",
    "\n",
    "# Sample use\n",
    "text = \"Reports of disconnection of the 15mm connector from the endotracheal tube (ET tube) for the affected products.\"\n",
    "category, score = spacy_categorize(text, exact_match_keywords, category_keywords)\n",
    "print(category, score)"
   ]
  },
  {
   "cell_type": "code",
   "execution_count": 230,
   "metadata": {},
   "outputs": [],
   "source": [
    "recall_reasons = []\n",
    "for text in ClassI_df[\"Reason for Recall\"]:\n",
    "    recall_reasons.append(text)\n",
    "# note: this takes over a minute to run for just ClassI_df, which is about 3k rows.\n",
    "\n",
    "results = []\n",
    "for reason in recall_reasons:\n",
    "    category, score = spacy_categorize(reason, exact_match_keywords, category_keywords)\n",
    "    results.append({\"Recall Reason\": reason, \"Category\": category, \"Score\": score})\n",
    "\n",
    "recall_reason_df = pd.DataFrame(results)\n",
    "recall_reason_df.to_csv(\"categorized_recalls.csv\", index=False)"
   ]
  },
  {
   "cell_type": "code",
   "execution_count": 224,
   "metadata": {},
   "outputs": [
    {
     "data": {
      "text/plain": [
       "Category\n",
       "Design/Component Flaws               7016\n",
       "Manufacturing Defects                2968\n",
       "Software Issues                      1115\n",
       "Contamination or Sterility Issues     957\n",
       "Operation or Functional Issues        461\n",
       "Other                                 316\n",
       "Expiry Issues                         305\n",
       "Operational or Functional Issues       47\n",
       "Compliance Violations                  13\n",
       "Name: count, dtype: int64"
      ]
     },
     "execution_count": 224,
     "metadata": {},
     "output_type": "execute_result"
    }
   ],
   "source": [
    "recall_reason_df['Category'].value_counts()"
   ]
  },
  {
   "cell_type": "markdown",
   "metadata": {},
   "source": [
    "### Device Categorization"
   ]
  },
  {
   "cell_type": "code",
   "execution_count": null,
   "metadata": {},
   "outputs": [
    {
     "name": "stdout",
     "output_type": "stream",
     "text": [
      "Imaging/Radiology Systems 1.0\n"
     ]
    }
   ],
   "source": [
    "device_exact_match_keywords = {\n",
    "    # You need at least 2 items in the key (tuple) for this to work so I have to duplicate some\n",
    "    (\"surgical packs\", \"surgical kits\", \"medline\"): \"Surgery Procedure Kits\",\n",
    "    (\"imaging\", \"radiology\", \"ultrasound\"): \"Imaging/Radiology Systems\",\n",
    "    (\"anesthesia\", \"anesthesia\"): \"Anesthesia Equipment\",\n",
    "    (\"catheter\", \"drain\"): \"Catheters\",\n",
    "    (\"infusion\", \"infusion\"): \"Infusion Pumps\",\n",
    "    (\"blood pump\", \"blood pumps\"): \"Blood Pumps\",\n",
    "    (\"craniotomy\", \"craniotomy\"): \"Craniotomy Equipment\",\n",
    "    (\"syringe\", \"syringe\"): \"Syringe Equipment\",\n",
    "    (\"tracheostomy\", \"tracheostomy\", \"trach\", \"endotracheal tubes\"): \"Trachea Devices\",\n",
    "    (\"ventilator\", \"respiratory\", \"Trilogy Evo\", \"Pneupac\", \"oxygen\", \"respironics\"): \"Ventilation and Respiratory Devices\",\n",
    "    (\"monitoring\", \"monitoring\"): \"Monitoring Devices\",\n",
    "    (\"neonatal incubator\", \"incubators\"): \"Incubators\",\n",
    "    (\"cardiac\", \"balloon pump\", \"heart\", \"defibrillator\", \"defibrillators\"): \"Cardiac Assist Devices\",\n",
    "    (\"covid\", \"covid-19\"): \"COVID-19 Testing Kits\"\n",
    "\n",
    "}\n",
    "\n",
    "device_category_keywords = {\n",
    "    (\"surgical packs\", \"surgical kits\", \"trays\"): \"Surgery Procedure Kits\",\n",
    "    (\"viewpoint\", \"imaging processing\", \"radiological\"): \"Imaging/Radiology Systems\",\n",
    "    (\"anesthesia extension set\"): \"Anesthesia Equipment\",\n",
    "    (\"drainage catheter\", \"locking pigtail\", \"drainage\", \"drain bag\"): \"Catheters\",\n",
    "    (\"infusion pump\", \"monitoring system\"): \"Infusion Pumps\",\n",
    "    (\"blood pump\", \"ventricular\", \"blood flow\"): \"Blood Pumps\",\n",
    "    (\"craniotomy equipment\"): \"Craniotomy Equipment\",\n",
    "    (\"syringe\", \"syringe\", \"insulin\"): \"Syringe Equipment\",\n",
    "    (\"tracheostomy\", \"tube\", \"cuffed\", \"portex\", \"endotracheal\", \"airway\"): \"Trachea Devices\",\n",
    "    (\"ventilator\", \"respiratory\", \"oxygen delivery\", \"oxygen reservoir\", \"mask\", \"resuscitator\"): \"Ventilation and Respiratory Devices\",\n",
    "    (\"monitoring\", \"continuous monitoring\"): \"Monitoring Devices\",\n",
    "    (\"neonatal incubator\", \"incubators\"): \"Incubators\",\n",
    "    (\"cardiac\", \"cardiosave\", \"intra-aortic balloon pump\", \"heart\", \"defibrillators\"): \"Cardiac Assist Devices\",\n",
    "    (\"covid\", \"covid-19 testing kits\"): \"COVID-19 Testing Kits\"\n",
    "}\n",
    "\n",
    "\n",
    "# Sample use\n",
    "text = \"EcoGel 200 - RED Medical Supplies Clear Ultrasound Gel, Model No. 250UG-CMU\"\n",
    "category, score = spacy_categorize(text, device_exact_match_keywords, device_category_keywords)\n",
    "print(category, score)\n"
   ]
  },
  {
   "cell_type": "code",
   "execution_count": 231,
   "metadata": {},
   "outputs": [
    {
     "name": "stderr",
     "output_type": "stream",
     "text": [
      "/var/folders/4n/lg_9zm91673b9xcs269mpwg00000gp/T/ipykernel_77589/858833609.py:24: UserWarning:\n",
      "\n",
      "[W008] Evaluating Doc.similarity based on empty vectors.\n",
      "\n"
     ]
    }
   ],
   "source": [
    "prod_descs = []\n",
    "for text in ClassI_df[\"Product Description\"]:\n",
    "    prod_descs.append(text)\n",
    "\n",
    "# note: this takes 1-2 minutes to run for just ClassI_df, which is about 3k rows.\n",
    "results = []\n",
    "for desc in prod_descs:\n",
    "    type, score = spacy_categorize(desc, device_exact_match_keywords, device_category_keywords)\n",
    "    results.append({\"Product Description\": desc, \"Type\": type, \"Score\": score})\n",
    "    \n",
    "product_description_df = pd.DataFrame(results)\n",
    "product_description_df.to_csv(\"categorized_devices.csv\", index=False)"
   ]
  },
  {
   "cell_type": "code",
   "execution_count": 232,
   "metadata": {},
   "outputs": [
    {
     "data": {
      "text/plain": [
       "Type\n",
       "Other                                  3574\n",
       "Blood Pumps                            2828\n",
       "Anesthesia Equipment                   1567\n",
       "Catheters                              1061\n",
       "Imaging/Radiology Systems               622\n",
       "Cardiac Assist Devices                  618\n",
       "Ventilation and Respiratory Devices     600\n",
       "Infusion Pumps                          570\n",
       "Surgery Procedure Kits                  502\n",
       "Monitoring Devices                      427\n",
       "Syringe Equipment                       374\n",
       "Trachea Devices                         260\n",
       "COVID-19 Testing Kits                   130\n",
       "Craniotomy Equipment                     60\n",
       "Incubators                                5\n",
       "Name: count, dtype: int64"
      ]
     },
     "execution_count": 232,
     "metadata": {},
     "output_type": "execute_result"
    }
   ],
   "source": [
    "product_description_df['Type'].value_counts()"
   ]
  },
  {
   "cell_type": "markdown",
   "metadata": {},
   "source": [
    "## After categorizing, lets combine everything into one main dataframe."
   ]
  },
  {
   "cell_type": "code",
   "execution_count": 234,
   "metadata": {},
   "outputs": [
    {
     "data": {
      "text/html": [
       "<div>\n",
       "<style scoped>\n",
       "    .dataframe tbody tr th:only-of-type {\n",
       "        vertical-align: middle;\n",
       "    }\n",
       "\n",
       "    .dataframe tbody tr th {\n",
       "        vertical-align: top;\n",
       "    }\n",
       "\n",
       "    .dataframe thead th {\n",
       "        text-align: right;\n",
       "    }\n",
       "</style>\n",
       "<table border=\"1\" class=\"dataframe\">\n",
       "  <thead>\n",
       "    <tr style=\"text-align: right;\">\n",
       "      <th></th>\n",
       "      <th>FEI Number</th>\n",
       "      <th>Recalling Firm Name</th>\n",
       "      <th>Product Type</th>\n",
       "      <th>Product Classification</th>\n",
       "      <th>Status</th>\n",
       "      <th>Distribution Pattern</th>\n",
       "      <th>Recalling Firm City</th>\n",
       "      <th>Recalling Firm State</th>\n",
       "      <th>Recalling Firm Country</th>\n",
       "      <th>Center Classification Date</th>\n",
       "      <th>Reason for Recall</th>\n",
       "      <th>Product Description</th>\n",
       "      <th>Event ID</th>\n",
       "      <th>Event Classification</th>\n",
       "      <th>Product ID</th>\n",
       "      <th>Center</th>\n",
       "      <th>Recall Details</th>\n",
       "      <th>Device Type</th>\n",
       "      <th>Recall Category</th>\n",
       "    </tr>\n",
       "  </thead>\n",
       "  <tbody>\n",
       "    <tr>\n",
       "      <th>0</th>\n",
       "      <td>3004497354</td>\n",
       "      <td>GE Healthcare GmbH</td>\n",
       "      <td>Devices</td>\n",
       "      <td>Class II</td>\n",
       "      <td>Ongoing</td>\n",
       "      <td>US Nationwide distribution including in the st...</td>\n",
       "      <td>Munich</td>\n",
       "      <td>-</td>\n",
       "      <td>Germany</td>\n",
       "      <td>09/13/2024</td>\n",
       "      <td>The National Institute of Standards and Techno...</td>\n",
       "      <td>ViewPoint; system, imaging processing, radiolo...</td>\n",
       "      <td>95167</td>\n",
       "      <td>Class II</td>\n",
       "      <td>209643</td>\n",
       "      <td>CDRH</td>\n",
       "      <td>https://www.accessdata.fda.gov/scripts/ires/?P...</td>\n",
       "      <td>Imaging/Radiology Systems</td>\n",
       "      <td>Design/Component Flaws</td>\n",
       "    </tr>\n",
       "    <tr>\n",
       "      <th>1</th>\n",
       "      <td>3004497354</td>\n",
       "      <td>GE Healthcare GmbH</td>\n",
       "      <td>Devices</td>\n",
       "      <td>Class II</td>\n",
       "      <td>Ongoing</td>\n",
       "      <td>US Nationwide distribution including in the st...</td>\n",
       "      <td>Munich</td>\n",
       "      <td>-</td>\n",
       "      <td>Germany</td>\n",
       "      <td>09/13/2024</td>\n",
       "      <td>The National Institute of Standards and Techno...</td>\n",
       "      <td>ViewPoint 6, Model Numbers:  a) H47581RJ, b) H...</td>\n",
       "      <td>95167</td>\n",
       "      <td>Class II</td>\n",
       "      <td>209644</td>\n",
       "      <td>CDRH</td>\n",
       "      <td>https://www.accessdata.fda.gov/scripts/ires/?P...</td>\n",
       "      <td>Imaging/Radiology Systems</td>\n",
       "      <td>Design/Component Flaws</td>\n",
       "    </tr>\n",
       "    <tr>\n",
       "      <th>2</th>\n",
       "      <td>2523676</td>\n",
       "      <td>B. Braun Medical, Inc.</td>\n",
       "      <td>Devices</td>\n",
       "      <td>Class II</td>\n",
       "      <td>Ongoing</td>\n",
       "      <td>US Nationwide distribution.</td>\n",
       "      <td>Allentown</td>\n",
       "      <td>Pennsylvania</td>\n",
       "      <td>United States</td>\n",
       "      <td>09/13/2024</td>\n",
       "      <td>Potential for product leakage from the Spin Lo...</td>\n",
       "      <td>AET36 ANESTH EXT SET - Anesthesia Extension Se...</td>\n",
       "      <td>95153</td>\n",
       "      <td>Class II</td>\n",
       "      <td>209610</td>\n",
       "      <td>CDRH</td>\n",
       "      <td>https://www.accessdata.fda.gov/scripts/ires/?P...</td>\n",
       "      <td>Anesthesia Equipment</td>\n",
       "      <td>Manufacturing Defects</td>\n",
       "    </tr>\n",
       "    <tr>\n",
       "      <th>3</th>\n",
       "      <td>3002095335</td>\n",
       "      <td>Boston Scientific Corporation</td>\n",
       "      <td>Devices</td>\n",
       "      <td>Class II</td>\n",
       "      <td>Ongoing</td>\n",
       "      <td>US, Colombia, Philippines, Russia</td>\n",
       "      <td>Maple Grove</td>\n",
       "      <td>Minnesota</td>\n",
       "      <td>United States</td>\n",
       "      <td>09/13/2024</td>\n",
       "      <td>There is the potential for holes in the clear ...</td>\n",
       "      <td>Flexima APDL Drainage Catheter System and Kit,...</td>\n",
       "      <td>95186</td>\n",
       "      <td>Class II</td>\n",
       "      <td>209691</td>\n",
       "      <td>CDRH</td>\n",
       "      <td>https://www.accessdata.fda.gov/scripts/ires/?P...</td>\n",
       "      <td>Catheters</td>\n",
       "      <td>Contamination or Sterility Issues</td>\n",
       "    </tr>\n",
       "    <tr>\n",
       "      <th>4</th>\n",
       "      <td>3002095335</td>\n",
       "      <td>Boston Scientific Corporation</td>\n",
       "      <td>Devices</td>\n",
       "      <td>Class II</td>\n",
       "      <td>Ongoing</td>\n",
       "      <td>US, Colombia, Philippines, Russia</td>\n",
       "      <td>Maple Grove</td>\n",
       "      <td>Minnesota</td>\n",
       "      <td>United States</td>\n",
       "      <td>09/13/2024</td>\n",
       "      <td>There is the potential for holes in the clear ...</td>\n",
       "      <td>Flexima Regular Kit Biliary Catheter System Ki...</td>\n",
       "      <td>95186</td>\n",
       "      <td>Class II</td>\n",
       "      <td>209692</td>\n",
       "      <td>CDRH</td>\n",
       "      <td>https://www.accessdata.fda.gov/scripts/ires/?P...</td>\n",
       "      <td>Catheters</td>\n",
       "      <td>Contamination or Sterility Issues</td>\n",
       "    </tr>\n",
       "    <tr>\n",
       "      <th>...</th>\n",
       "      <td>...</td>\n",
       "      <td>...</td>\n",
       "      <td>...</td>\n",
       "      <td>...</td>\n",
       "      <td>...</td>\n",
       "      <td>...</td>\n",
       "      <td>...</td>\n",
       "      <td>...</td>\n",
       "      <td>...</td>\n",
       "      <td>...</td>\n",
       "      <td>...</td>\n",
       "      <td>...</td>\n",
       "      <td>...</td>\n",
       "      <td>...</td>\n",
       "      <td>...</td>\n",
       "      <td>...</td>\n",
       "      <td>...</td>\n",
       "      <td>...</td>\n",
       "      <td>...</td>\n",
       "    </tr>\n",
       "    <tr>\n",
       "      <th>13193</th>\n",
       "      <td>3000209941</td>\n",
       "      <td>Inter-Med Llc</td>\n",
       "      <td>Devices</td>\n",
       "      <td>Class II</td>\n",
       "      <td>Terminated</td>\n",
       "      <td>US, South Africa, Switzerland, Poland, Italy, ...</td>\n",
       "      <td>Racine</td>\n",
       "      <td>Wisconsin</td>\n",
       "      <td>United States</td>\n",
       "      <td>10/01/2019</td>\n",
       "      <td>The affected lots may be packaged in syringes ...</td>\n",
       "      <td>Vista Dental Products Sodium Hypochlorite - 6%...</td>\n",
       "      <td>83435</td>\n",
       "      <td>Class II</td>\n",
       "      <td>175277</td>\n",
       "      <td>CDRH</td>\n",
       "      <td>https://www.accessdata.fda.gov/scripts/ires/?P...</td>\n",
       "      <td>Syringe Equipment</td>\n",
       "      <td>Design/Component Flaws</td>\n",
       "    </tr>\n",
       "    <tr>\n",
       "      <th>13194</th>\n",
       "      <td>3000209941</td>\n",
       "      <td>Inter-Med Llc</td>\n",
       "      <td>Devices</td>\n",
       "      <td>Class II</td>\n",
       "      <td>Terminated</td>\n",
       "      <td>US, South Africa, Switzerland, Poland, Italy, ...</td>\n",
       "      <td>Racine</td>\n",
       "      <td>Wisconsin</td>\n",
       "      <td>United States</td>\n",
       "      <td>10/01/2019</td>\n",
       "      <td>The affected lots may be packaged in syringes ...</td>\n",
       "      <td>Vista Dental Products 3% Sodium Hypochlorite, ...</td>\n",
       "      <td>83435</td>\n",
       "      <td>Class II</td>\n",
       "      <td>175281</td>\n",
       "      <td>CDRH</td>\n",
       "      <td>https://www.accessdata.fda.gov/scripts/ires/?P...</td>\n",
       "      <td>Syringe Equipment</td>\n",
       "      <td>Design/Component Flaws</td>\n",
       "    </tr>\n",
       "    <tr>\n",
       "      <th>13195</th>\n",
       "      <td>3000209941</td>\n",
       "      <td>Inter-Med Llc</td>\n",
       "      <td>Devices</td>\n",
       "      <td>Class II</td>\n",
       "      <td>Terminated</td>\n",
       "      <td>US, South Africa, Switzerland, Poland, Italy, ...</td>\n",
       "      <td>Racine</td>\n",
       "      <td>Wisconsin</td>\n",
       "      <td>United States</td>\n",
       "      <td>10/01/2019</td>\n",
       "      <td>The affected lots may be packaged in syringes ...</td>\n",
       "      <td>Vista Dental Products Chlor-XTRA - 3mL Prefill...</td>\n",
       "      <td>83435</td>\n",
       "      <td>Class II</td>\n",
       "      <td>175287</td>\n",
       "      <td>CDRH</td>\n",
       "      <td>https://www.accessdata.fda.gov/scripts/ires/?P...</td>\n",
       "      <td>Syringe Equipment</td>\n",
       "      <td>Design/Component Flaws</td>\n",
       "    </tr>\n",
       "    <tr>\n",
       "      <th>13196</th>\n",
       "      <td>3000209941</td>\n",
       "      <td>Inter-Med Llc</td>\n",
       "      <td>Devices</td>\n",
       "      <td>Class II</td>\n",
       "      <td>Terminated</td>\n",
       "      <td>US, South Africa, Switzerland, Poland, Italy, ...</td>\n",
       "      <td>Racine</td>\n",
       "      <td>Wisconsin</td>\n",
       "      <td>United States</td>\n",
       "      <td>10/01/2019</td>\n",
       "      <td>The affected lots may be packaged in syringes ...</td>\n",
       "      <td>Vista Dental Products Chlor-XTRA - 12mL Prefil...</td>\n",
       "      <td>83435</td>\n",
       "      <td>Class II</td>\n",
       "      <td>175288</td>\n",
       "      <td>CDRH</td>\n",
       "      <td>https://www.accessdata.fda.gov/scripts/ires/?P...</td>\n",
       "      <td>Syringe Equipment</td>\n",
       "      <td>Design/Component Flaws</td>\n",
       "    </tr>\n",
       "    <tr>\n",
       "      <th>13197</th>\n",
       "      <td>3001617766</td>\n",
       "      <td>Implant Direct Sybron Manufacturing, LLC</td>\n",
       "      <td>Devices</td>\n",
       "      <td>Class II</td>\n",
       "      <td>Terminated</td>\n",
       "      <td>Worldwide distribution - US Nationwide includi...</td>\n",
       "      <td>Westlake Village</td>\n",
       "      <td>California</td>\n",
       "      <td>United States</td>\n",
       "      <td>10/01/2019</td>\n",
       "      <td>Two units in distribution were found to be mis...</td>\n",
       "      <td>ImplantDirect Legacy 3 Implant, REF 855216, SB...</td>\n",
       "      <td>83518</td>\n",
       "      <td>Class II</td>\n",
       "      <td>175605</td>\n",
       "      <td>CDRH</td>\n",
       "      <td>https://www.accessdata.fda.gov/scripts/ires/?P...</td>\n",
       "      <td>Blood Pumps</td>\n",
       "      <td>Software Issues</td>\n",
       "    </tr>\n",
       "  </tbody>\n",
       "</table>\n",
       "<p>13198 rows × 19 columns</p>\n",
       "</div>"
      ],
      "text/plain": [
       "       FEI Number                       Recalling Firm Name Product Type  \\\n",
       "0      3004497354                        GE Healthcare GmbH      Devices   \n",
       "1      3004497354                        GE Healthcare GmbH      Devices   \n",
       "2         2523676                    B. Braun Medical, Inc.      Devices   \n",
       "3      3002095335             Boston Scientific Corporation      Devices   \n",
       "4      3002095335             Boston Scientific Corporation      Devices   \n",
       "...           ...                                       ...          ...   \n",
       "13193  3000209941                             Inter-Med Llc      Devices   \n",
       "13194  3000209941                             Inter-Med Llc      Devices   \n",
       "13195  3000209941                             Inter-Med Llc      Devices   \n",
       "13196  3000209941                             Inter-Med Llc      Devices   \n",
       "13197  3001617766  Implant Direct Sybron Manufacturing, LLC      Devices   \n",
       "\n",
       "      Product Classification      Status  \\\n",
       "0                   Class II     Ongoing   \n",
       "1                   Class II     Ongoing   \n",
       "2                   Class II     Ongoing   \n",
       "3                   Class II     Ongoing   \n",
       "4                   Class II     Ongoing   \n",
       "...                      ...         ...   \n",
       "13193               Class II  Terminated   \n",
       "13194               Class II  Terminated   \n",
       "13195               Class II  Terminated   \n",
       "13196               Class II  Terminated   \n",
       "13197               Class II  Terminated   \n",
       "\n",
       "                                    Distribution Pattern Recalling Firm City  \\\n",
       "0      US Nationwide distribution including in the st...              Munich   \n",
       "1      US Nationwide distribution including in the st...              Munich   \n",
       "2                            US Nationwide distribution.           Allentown   \n",
       "3                      US, Colombia, Philippines, Russia         Maple Grove   \n",
       "4                      US, Colombia, Philippines, Russia         Maple Grove   \n",
       "...                                                  ...                 ...   \n",
       "13193  US, South Africa, Switzerland, Poland, Italy, ...              Racine   \n",
       "13194  US, South Africa, Switzerland, Poland, Italy, ...              Racine   \n",
       "13195  US, South Africa, Switzerland, Poland, Italy, ...              Racine   \n",
       "13196  US, South Africa, Switzerland, Poland, Italy, ...              Racine   \n",
       "13197  Worldwide distribution - US Nationwide includi...    Westlake Village   \n",
       "\n",
       "      Recalling Firm State Recalling Firm Country Center Classification Date  \\\n",
       "0                        -                Germany                 09/13/2024   \n",
       "1                        -                Germany                 09/13/2024   \n",
       "2             Pennsylvania          United States                 09/13/2024   \n",
       "3                Minnesota          United States                 09/13/2024   \n",
       "4                Minnesota          United States                 09/13/2024   \n",
       "...                    ...                    ...                        ...   \n",
       "13193            Wisconsin          United States                 10/01/2019   \n",
       "13194            Wisconsin          United States                 10/01/2019   \n",
       "13195            Wisconsin          United States                 10/01/2019   \n",
       "13196            Wisconsin          United States                 10/01/2019   \n",
       "13197           California          United States                 10/01/2019   \n",
       "\n",
       "                                       Reason for Recall  \\\n",
       "0      The National Institute of Standards and Techno...   \n",
       "1      The National Institute of Standards and Techno...   \n",
       "2      Potential for product leakage from the Spin Lo...   \n",
       "3      There is the potential for holes in the clear ...   \n",
       "4      There is the potential for holes in the clear ...   \n",
       "...                                                  ...   \n",
       "13193  The affected lots may be packaged in syringes ...   \n",
       "13194  The affected lots may be packaged in syringes ...   \n",
       "13195  The affected lots may be packaged in syringes ...   \n",
       "13196  The affected lots may be packaged in syringes ...   \n",
       "13197  Two units in distribution were found to be mis...   \n",
       "\n",
       "                                     Product Description  Event ID  \\\n",
       "0      ViewPoint; system, imaging processing, radiolo...     95167   \n",
       "1      ViewPoint 6, Model Numbers:  a) H47581RJ, b) H...     95167   \n",
       "2      AET36 ANESTH EXT SET - Anesthesia Extension Se...     95153   \n",
       "3      Flexima APDL Drainage Catheter System and Kit,...     95186   \n",
       "4      Flexima Regular Kit Biliary Catheter System Ki...     95186   \n",
       "...                                                  ...       ...   \n",
       "13193  Vista Dental Products Sodium Hypochlorite - 6%...     83435   \n",
       "13194  Vista Dental Products 3% Sodium Hypochlorite, ...     83435   \n",
       "13195  Vista Dental Products Chlor-XTRA - 3mL Prefill...     83435   \n",
       "13196  Vista Dental Products Chlor-XTRA - 12mL Prefil...     83435   \n",
       "13197  ImplantDirect Legacy 3 Implant, REF 855216, SB...     83518   \n",
       "\n",
       "      Event Classification  Product ID Center  \\\n",
       "0                 Class II      209643   CDRH   \n",
       "1                 Class II      209644   CDRH   \n",
       "2                 Class II      209610   CDRH   \n",
       "3                 Class II      209691   CDRH   \n",
       "4                 Class II      209692   CDRH   \n",
       "...                    ...         ...    ...   \n",
       "13193             Class II      175277   CDRH   \n",
       "13194             Class II      175281   CDRH   \n",
       "13195             Class II      175287   CDRH   \n",
       "13196             Class II      175288   CDRH   \n",
       "13197             Class II      175605   CDRH   \n",
       "\n",
       "                                          Recall Details  \\\n",
       "0      https://www.accessdata.fda.gov/scripts/ires/?P...   \n",
       "1      https://www.accessdata.fda.gov/scripts/ires/?P...   \n",
       "2      https://www.accessdata.fda.gov/scripts/ires/?P...   \n",
       "3      https://www.accessdata.fda.gov/scripts/ires/?P...   \n",
       "4      https://www.accessdata.fda.gov/scripts/ires/?P...   \n",
       "...                                                  ...   \n",
       "13193  https://www.accessdata.fda.gov/scripts/ires/?P...   \n",
       "13194  https://www.accessdata.fda.gov/scripts/ires/?P...   \n",
       "13195  https://www.accessdata.fda.gov/scripts/ires/?P...   \n",
       "13196  https://www.accessdata.fda.gov/scripts/ires/?P...   \n",
       "13197  https://www.accessdata.fda.gov/scripts/ires/?P...   \n",
       "\n",
       "                     Device Type                    Recall Category  \n",
       "0      Imaging/Radiology Systems             Design/Component Flaws  \n",
       "1      Imaging/Radiology Systems             Design/Component Flaws  \n",
       "2           Anesthesia Equipment              Manufacturing Defects  \n",
       "3                      Catheters  Contamination or Sterility Issues  \n",
       "4                      Catheters  Contamination or Sterility Issues  \n",
       "...                          ...                                ...  \n",
       "13193          Syringe Equipment             Design/Component Flaws  \n",
       "13194          Syringe Equipment             Design/Component Flaws  \n",
       "13195          Syringe Equipment             Design/Component Flaws  \n",
       "13196          Syringe Equipment             Design/Component Flaws  \n",
       "13197                Blood Pumps                    Software Issues  \n",
       "\n",
       "[13198 rows x 19 columns]"
      ]
     },
     "execution_count": 234,
     "metadata": {},
     "output_type": "execute_result"
    }
   ],
   "source": [
    "# IMPORTANT: make sure the number of indexes for all new columns match the original dataframe\n",
    "main_df = ClassI_df.reset_index(drop=True).copy()\n",
    "main_df[\"Device Type\"] = product_description_df[\"Type\"]\n",
    "main_df[\"Recall Category\"] = recall_reason_df[\"Category\"]\n",
    "\n",
    "main_df.to_csv(\"categorized.csv\", index=True)\n",
    "main_df"
   ]
  },
  {
   "cell_type": "code",
   "execution_count": null,
   "metadata": {},
   "outputs": [],
   "source": [
    "# 1. select a filter\n",
    "#filtered_df = main_df[(main_df[\"Device Type\"] == 'Cardiac Assist Devices') & (main_df[\"Recall Category\"] == 'Manufacturing Defects')]\n",
    "filtered_df = main_df[(main_df[\"Device Type\"] == 'COVID-19 Testing Kits')]\n",
    "# 2. only keep unique Reason for Recall values\n",
    "unique_df = filtered_df.drop_duplicates(subset='Reason for Recall')\n",
    "\n",
    "# Summary Information\n",
    "rows = len(unique_df)  # Number of unique devices found (rows)\n",
    "list_dev_types = unique_df['Device Type'].unique()  # list of unique device types\n",
    "list_rec_categories = unique_df['Recall Category'].unique()  \n",
    "\n",
    "\n",
    "print(f'''\n",
    "      Summary:\n",
    "      \n",
    "      Number of unique devices found: {rows}\n",
    "      Unique device types: {list_dev_types}\n",
    "      Unique recall categories: {list_rec_categories}\n",
    "''')\n",
    "\n",
    "unique_df"
   ]
  },
  {
   "cell_type": "markdown",
   "metadata": {},
   "source": [
    "### Graphs !"
   ]
  },
  {
   "cell_type": "code",
   "execution_count": null,
   "metadata": {},
   "outputs": [],
   "source": [
    "import plotly.express as px\n",
    "\n",
    "\n",
    "filtered_df = main_df[(main_df[\"Device Type\"] == 'Cardiac Assist Devices')]\n",
    "\n",
    "# Group by 'Recall Category' and count occurrences\n",
    "recall_counts = filtered_df[\"Recall Category\"].value_counts().reset_index()\n",
    "recall_counts.columns = ['Recall Category', 'Count']\n",
    "\n",
    "# Create a bar chart using Plotly\n",
    "fig = px.bar(recall_counts, x='Recall Category', y='Count', title='Counts of Recall Categories for Cardiac Assist Devices')\n",
    "\n",
    "# Update layout to rotate x-axis labels\n",
    "fig.update_layout(xaxis_title='Recall Category', yaxis_title='Count', xaxis_tickangle=-45)\n",
    "\n",
    "fig\n"
   ]
  },
  {
   "cell_type": "code",
   "execution_count": 217,
   "metadata": {},
   "outputs": [
    {
     "ename": "ValueError",
     "evalue": "Mime type rendering requires nbformat>=4.2.0 but it is not installed",
     "output_type": "error",
     "traceback": [
      "\u001b[0;31m---------------------------------------------------------------------------\u001b[0m",
      "\u001b[0;31mValueError\u001b[0m                                Traceback (most recent call last)",
      "File \u001b[0;32m~/Desktop/Python Projects/OpenFDA API/venv/lib/python3.9/site-packages/IPython/core/formatters.py:922\u001b[0m, in \u001b[0;36mIPythonDisplayFormatter.__call__\u001b[0;34m(self, obj)\u001b[0m\n\u001b[1;32m    920\u001b[0m method \u001b[38;5;241m=\u001b[39m get_real_method(obj, \u001b[38;5;28mself\u001b[39m\u001b[38;5;241m.\u001b[39mprint_method)\n\u001b[1;32m    921\u001b[0m \u001b[38;5;28;01mif\u001b[39;00m method \u001b[38;5;129;01mis\u001b[39;00m \u001b[38;5;129;01mnot\u001b[39;00m \u001b[38;5;28;01mNone\u001b[39;00m:\n\u001b[0;32m--> 922\u001b[0m     \u001b[43mmethod\u001b[49m\u001b[43m(\u001b[49m\u001b[43m)\u001b[49m\n\u001b[1;32m    923\u001b[0m     \u001b[38;5;28;01mreturn\u001b[39;00m \u001b[38;5;28;01mTrue\u001b[39;00m\n",
      "File \u001b[0;32m~/Desktop/Python Projects/OpenFDA API/venv/lib/python3.9/site-packages/plotly/basedatatypes.py:832\u001b[0m, in \u001b[0;36mBaseFigure._ipython_display_\u001b[0;34m(self)\u001b[0m\n\u001b[1;32m    829\u001b[0m \u001b[38;5;28;01mimport\u001b[39;00m \u001b[38;5;21;01mplotly\u001b[39;00m\u001b[38;5;21;01m.\u001b[39;00m\u001b[38;5;21;01mio\u001b[39;00m \u001b[38;5;28;01mas\u001b[39;00m \u001b[38;5;21;01mpio\u001b[39;00m\n\u001b[1;32m    831\u001b[0m \u001b[38;5;28;01mif\u001b[39;00m pio\u001b[38;5;241m.\u001b[39mrenderers\u001b[38;5;241m.\u001b[39mrender_on_display \u001b[38;5;129;01mand\u001b[39;00m pio\u001b[38;5;241m.\u001b[39mrenderers\u001b[38;5;241m.\u001b[39mdefault:\n\u001b[0;32m--> 832\u001b[0m     \u001b[43mpio\u001b[49m\u001b[38;5;241;43m.\u001b[39;49m\u001b[43mshow\u001b[49m\u001b[43m(\u001b[49m\u001b[38;5;28;43mself\u001b[39;49m\u001b[43m)\u001b[49m\n\u001b[1;32m    833\u001b[0m \u001b[38;5;28;01melse\u001b[39;00m:\n\u001b[1;32m    834\u001b[0m     \u001b[38;5;28mprint\u001b[39m(\u001b[38;5;28mrepr\u001b[39m(\u001b[38;5;28mself\u001b[39m))\n",
      "File \u001b[0;32m~/Desktop/Python Projects/OpenFDA API/venv/lib/python3.9/site-packages/plotly/io/_renderers.py:394\u001b[0m, in \u001b[0;36mshow\u001b[0;34m(fig, renderer, validate, **kwargs)\u001b[0m\n\u001b[1;32m    389\u001b[0m         \u001b[38;5;28;01mraise\u001b[39;00m \u001b[38;5;167;01mValueError\u001b[39;00m(\n\u001b[1;32m    390\u001b[0m             \u001b[38;5;124m\"\u001b[39m\u001b[38;5;124mMime type rendering requires ipython but it is not installed\u001b[39m\u001b[38;5;124m\"\u001b[39m\n\u001b[1;32m    391\u001b[0m         )\n\u001b[1;32m    393\u001b[0m     \u001b[38;5;28;01mif\u001b[39;00m \u001b[38;5;129;01mnot\u001b[39;00m nbformat \u001b[38;5;129;01mor\u001b[39;00m Version(nbformat\u001b[38;5;241m.\u001b[39m__version__) \u001b[38;5;241m<\u001b[39m Version(\u001b[38;5;124m\"\u001b[39m\u001b[38;5;124m4.2.0\u001b[39m\u001b[38;5;124m\"\u001b[39m):\n\u001b[0;32m--> 394\u001b[0m         \u001b[38;5;28;01mraise\u001b[39;00m \u001b[38;5;167;01mValueError\u001b[39;00m(\n\u001b[1;32m    395\u001b[0m             \u001b[38;5;124m\"\u001b[39m\u001b[38;5;124mMime type rendering requires nbformat>=4.2.0 but it is not installed\u001b[39m\u001b[38;5;124m\"\u001b[39m\n\u001b[1;32m    396\u001b[0m         )\n\u001b[1;32m    398\u001b[0m     ipython_display\u001b[38;5;241m.\u001b[39mdisplay(bundle, raw\u001b[38;5;241m=\u001b[39m\u001b[38;5;28;01mTrue\u001b[39;00m)\n\u001b[1;32m    400\u001b[0m \u001b[38;5;66;03m# external renderers\u001b[39;00m\n",
      "\u001b[0;31mValueError\u001b[0m: Mime type rendering requires nbformat>=4.2.0 but it is not installed"
     ]
    },
    {
     "data": {
      "application/vnd.plotly.v1+json": {
       "config": {
        "plotlyServerURL": "https://plot.ly"
       },
       "data": [
        {
         "alignmentgroup": "True",
         "hovertemplate": "Device Type=%{x}<br>Count=%{y}<extra></extra>",
         "legendgroup": "",
         "marker": {
          "color": "#636efa",
          "pattern": {
           "shape": ""
          }
         },
         "name": "",
         "offsetgroup": "",
         "orientation": "v",
         "showlegend": false,
         "textposition": "auto",
         "type": "bar",
         "x": [
          "Catheters",
          "Anesthesia Equipment",
          "Blood Pumps",
          "Other",
          "Trachea Devices",
          "Ventilation and Respiratory Devices",
          "Infusion Pumps",
          "Cardiac Assist Devices",
          "Imaging/Radiology Systems",
          "Syringe Equipment",
          "Surgery Procedure Kits",
          "Monitoring Devices",
          "Craniotomy Equipment",
          "COVID-19 Testing Kits"
         ],
         "xaxis": "x",
         "y": [
          146,
          50,
          46,
          38,
          31,
          28,
          20,
          19,
          11,
          6,
          4,
          3,
          2,
          1
         ],
         "yaxis": "y"
        }
       ],
       "layout": {
        "barmode": "relative",
        "legend": {
         "tracegroupgap": 0
        },
        "template": {
         "data": {
          "bar": [
           {
            "error_x": {
             "color": "#2a3f5f"
            },
            "error_y": {
             "color": "#2a3f5f"
            },
            "marker": {
             "line": {
              "color": "#E5ECF6",
              "width": 0.5
             },
             "pattern": {
              "fillmode": "overlay",
              "size": 10,
              "solidity": 0.2
             }
            },
            "type": "bar"
           }
          ],
          "barpolar": [
           {
            "marker": {
             "line": {
              "color": "#E5ECF6",
              "width": 0.5
             },
             "pattern": {
              "fillmode": "overlay",
              "size": 10,
              "solidity": 0.2
             }
            },
            "type": "barpolar"
           }
          ],
          "carpet": [
           {
            "aaxis": {
             "endlinecolor": "#2a3f5f",
             "gridcolor": "white",
             "linecolor": "white",
             "minorgridcolor": "white",
             "startlinecolor": "#2a3f5f"
            },
            "baxis": {
             "endlinecolor": "#2a3f5f",
             "gridcolor": "white",
             "linecolor": "white",
             "minorgridcolor": "white",
             "startlinecolor": "#2a3f5f"
            },
            "type": "carpet"
           }
          ],
          "choropleth": [
           {
            "colorbar": {
             "outlinewidth": 0,
             "ticks": ""
            },
            "type": "choropleth"
           }
          ],
          "contour": [
           {
            "colorbar": {
             "outlinewidth": 0,
             "ticks": ""
            },
            "colorscale": [
             [
              0,
              "#0d0887"
             ],
             [
              0.1111111111111111,
              "#46039f"
             ],
             [
              0.2222222222222222,
              "#7201a8"
             ],
             [
              0.3333333333333333,
              "#9c179e"
             ],
             [
              0.4444444444444444,
              "#bd3786"
             ],
             [
              0.5555555555555556,
              "#d8576b"
             ],
             [
              0.6666666666666666,
              "#ed7953"
             ],
             [
              0.7777777777777778,
              "#fb9f3a"
             ],
             [
              0.8888888888888888,
              "#fdca26"
             ],
             [
              1,
              "#f0f921"
             ]
            ],
            "type": "contour"
           }
          ],
          "contourcarpet": [
           {
            "colorbar": {
             "outlinewidth": 0,
             "ticks": ""
            },
            "type": "contourcarpet"
           }
          ],
          "heatmap": [
           {
            "colorbar": {
             "outlinewidth": 0,
             "ticks": ""
            },
            "colorscale": [
             [
              0,
              "#0d0887"
             ],
             [
              0.1111111111111111,
              "#46039f"
             ],
             [
              0.2222222222222222,
              "#7201a8"
             ],
             [
              0.3333333333333333,
              "#9c179e"
             ],
             [
              0.4444444444444444,
              "#bd3786"
             ],
             [
              0.5555555555555556,
              "#d8576b"
             ],
             [
              0.6666666666666666,
              "#ed7953"
             ],
             [
              0.7777777777777778,
              "#fb9f3a"
             ],
             [
              0.8888888888888888,
              "#fdca26"
             ],
             [
              1,
              "#f0f921"
             ]
            ],
            "type": "heatmap"
           }
          ],
          "heatmapgl": [
           {
            "colorbar": {
             "outlinewidth": 0,
             "ticks": ""
            },
            "colorscale": [
             [
              0,
              "#0d0887"
             ],
             [
              0.1111111111111111,
              "#46039f"
             ],
             [
              0.2222222222222222,
              "#7201a8"
             ],
             [
              0.3333333333333333,
              "#9c179e"
             ],
             [
              0.4444444444444444,
              "#bd3786"
             ],
             [
              0.5555555555555556,
              "#d8576b"
             ],
             [
              0.6666666666666666,
              "#ed7953"
             ],
             [
              0.7777777777777778,
              "#fb9f3a"
             ],
             [
              0.8888888888888888,
              "#fdca26"
             ],
             [
              1,
              "#f0f921"
             ]
            ],
            "type": "heatmapgl"
           }
          ],
          "histogram": [
           {
            "marker": {
             "pattern": {
              "fillmode": "overlay",
              "size": 10,
              "solidity": 0.2
             }
            },
            "type": "histogram"
           }
          ],
          "histogram2d": [
           {
            "colorbar": {
             "outlinewidth": 0,
             "ticks": ""
            },
            "colorscale": [
             [
              0,
              "#0d0887"
             ],
             [
              0.1111111111111111,
              "#46039f"
             ],
             [
              0.2222222222222222,
              "#7201a8"
             ],
             [
              0.3333333333333333,
              "#9c179e"
             ],
             [
              0.4444444444444444,
              "#bd3786"
             ],
             [
              0.5555555555555556,
              "#d8576b"
             ],
             [
              0.6666666666666666,
              "#ed7953"
             ],
             [
              0.7777777777777778,
              "#fb9f3a"
             ],
             [
              0.8888888888888888,
              "#fdca26"
             ],
             [
              1,
              "#f0f921"
             ]
            ],
            "type": "histogram2d"
           }
          ],
          "histogram2dcontour": [
           {
            "colorbar": {
             "outlinewidth": 0,
             "ticks": ""
            },
            "colorscale": [
             [
              0,
              "#0d0887"
             ],
             [
              0.1111111111111111,
              "#46039f"
             ],
             [
              0.2222222222222222,
              "#7201a8"
             ],
             [
              0.3333333333333333,
              "#9c179e"
             ],
             [
              0.4444444444444444,
              "#bd3786"
             ],
             [
              0.5555555555555556,
              "#d8576b"
             ],
             [
              0.6666666666666666,
              "#ed7953"
             ],
             [
              0.7777777777777778,
              "#fb9f3a"
             ],
             [
              0.8888888888888888,
              "#fdca26"
             ],
             [
              1,
              "#f0f921"
             ]
            ],
            "type": "histogram2dcontour"
           }
          ],
          "mesh3d": [
           {
            "colorbar": {
             "outlinewidth": 0,
             "ticks": ""
            },
            "type": "mesh3d"
           }
          ],
          "parcoords": [
           {
            "line": {
             "colorbar": {
              "outlinewidth": 0,
              "ticks": ""
             }
            },
            "type": "parcoords"
           }
          ],
          "pie": [
           {
            "automargin": true,
            "type": "pie"
           }
          ],
          "scatter": [
           {
            "fillpattern": {
             "fillmode": "overlay",
             "size": 10,
             "solidity": 0.2
            },
            "type": "scatter"
           }
          ],
          "scatter3d": [
           {
            "line": {
             "colorbar": {
              "outlinewidth": 0,
              "ticks": ""
             }
            },
            "marker": {
             "colorbar": {
              "outlinewidth": 0,
              "ticks": ""
             }
            },
            "type": "scatter3d"
           }
          ],
          "scattercarpet": [
           {
            "marker": {
             "colorbar": {
              "outlinewidth": 0,
              "ticks": ""
             }
            },
            "type": "scattercarpet"
           }
          ],
          "scattergeo": [
           {
            "marker": {
             "colorbar": {
              "outlinewidth": 0,
              "ticks": ""
             }
            },
            "type": "scattergeo"
           }
          ],
          "scattergl": [
           {
            "marker": {
             "colorbar": {
              "outlinewidth": 0,
              "ticks": ""
             }
            },
            "type": "scattergl"
           }
          ],
          "scattermapbox": [
           {
            "marker": {
             "colorbar": {
              "outlinewidth": 0,
              "ticks": ""
             }
            },
            "type": "scattermapbox"
           }
          ],
          "scatterpolar": [
           {
            "marker": {
             "colorbar": {
              "outlinewidth": 0,
              "ticks": ""
             }
            },
            "type": "scatterpolar"
           }
          ],
          "scatterpolargl": [
           {
            "marker": {
             "colorbar": {
              "outlinewidth": 0,
              "ticks": ""
             }
            },
            "type": "scatterpolargl"
           }
          ],
          "scatterternary": [
           {
            "marker": {
             "colorbar": {
              "outlinewidth": 0,
              "ticks": ""
             }
            },
            "type": "scatterternary"
           }
          ],
          "surface": [
           {
            "colorbar": {
             "outlinewidth": 0,
             "ticks": ""
            },
            "colorscale": [
             [
              0,
              "#0d0887"
             ],
             [
              0.1111111111111111,
              "#46039f"
             ],
             [
              0.2222222222222222,
              "#7201a8"
             ],
             [
              0.3333333333333333,
              "#9c179e"
             ],
             [
              0.4444444444444444,
              "#bd3786"
             ],
             [
              0.5555555555555556,
              "#d8576b"
             ],
             [
              0.6666666666666666,
              "#ed7953"
             ],
             [
              0.7777777777777778,
              "#fb9f3a"
             ],
             [
              0.8888888888888888,
              "#fdca26"
             ],
             [
              1,
              "#f0f921"
             ]
            ],
            "type": "surface"
           }
          ],
          "table": [
           {
            "cells": {
             "fill": {
              "color": "#EBF0F8"
             },
             "line": {
              "color": "white"
             }
            },
            "header": {
             "fill": {
              "color": "#C8D4E3"
             },
             "line": {
              "color": "white"
             }
            },
            "type": "table"
           }
          ]
         },
         "layout": {
          "annotationdefaults": {
           "arrowcolor": "#2a3f5f",
           "arrowhead": 0,
           "arrowwidth": 1
          },
          "autotypenumbers": "strict",
          "coloraxis": {
           "colorbar": {
            "outlinewidth": 0,
            "ticks": ""
           }
          },
          "colorscale": {
           "diverging": [
            [
             0,
             "#8e0152"
            ],
            [
             0.1,
             "#c51b7d"
            ],
            [
             0.2,
             "#de77ae"
            ],
            [
             0.3,
             "#f1b6da"
            ],
            [
             0.4,
             "#fde0ef"
            ],
            [
             0.5,
             "#f7f7f7"
            ],
            [
             0.6,
             "#e6f5d0"
            ],
            [
             0.7,
             "#b8e186"
            ],
            [
             0.8,
             "#7fbc41"
            ],
            [
             0.9,
             "#4d9221"
            ],
            [
             1,
             "#276419"
            ]
           ],
           "sequential": [
            [
             0,
             "#0d0887"
            ],
            [
             0.1111111111111111,
             "#46039f"
            ],
            [
             0.2222222222222222,
             "#7201a8"
            ],
            [
             0.3333333333333333,
             "#9c179e"
            ],
            [
             0.4444444444444444,
             "#bd3786"
            ],
            [
             0.5555555555555556,
             "#d8576b"
            ],
            [
             0.6666666666666666,
             "#ed7953"
            ],
            [
             0.7777777777777778,
             "#fb9f3a"
            ],
            [
             0.8888888888888888,
             "#fdca26"
            ],
            [
             1,
             "#f0f921"
            ]
           ],
           "sequentialminus": [
            [
             0,
             "#0d0887"
            ],
            [
             0.1111111111111111,
             "#46039f"
            ],
            [
             0.2222222222222222,
             "#7201a8"
            ],
            [
             0.3333333333333333,
             "#9c179e"
            ],
            [
             0.4444444444444444,
             "#bd3786"
            ],
            [
             0.5555555555555556,
             "#d8576b"
            ],
            [
             0.6666666666666666,
             "#ed7953"
            ],
            [
             0.7777777777777778,
             "#fb9f3a"
            ],
            [
             0.8888888888888888,
             "#fdca26"
            ],
            [
             1,
             "#f0f921"
            ]
           ]
          },
          "colorway": [
           "#636efa",
           "#EF553B",
           "#00cc96",
           "#ab63fa",
           "#FFA15A",
           "#19d3f3",
           "#FF6692",
           "#B6E880",
           "#FF97FF",
           "#FECB52"
          ],
          "font": {
           "color": "#2a3f5f"
          },
          "geo": {
           "bgcolor": "white",
           "lakecolor": "white",
           "landcolor": "#E5ECF6",
           "showlakes": true,
           "showland": true,
           "subunitcolor": "white"
          },
          "hoverlabel": {
           "align": "left"
          },
          "hovermode": "closest",
          "mapbox": {
           "style": "light"
          },
          "paper_bgcolor": "white",
          "plot_bgcolor": "#E5ECF6",
          "polar": {
           "angularaxis": {
            "gridcolor": "white",
            "linecolor": "white",
            "ticks": ""
           },
           "bgcolor": "#E5ECF6",
           "radialaxis": {
            "gridcolor": "white",
            "linecolor": "white",
            "ticks": ""
           }
          },
          "scene": {
           "xaxis": {
            "backgroundcolor": "#E5ECF6",
            "gridcolor": "white",
            "gridwidth": 2,
            "linecolor": "white",
            "showbackground": true,
            "ticks": "",
            "zerolinecolor": "white"
           },
           "yaxis": {
            "backgroundcolor": "#E5ECF6",
            "gridcolor": "white",
            "gridwidth": 2,
            "linecolor": "white",
            "showbackground": true,
            "ticks": "",
            "zerolinecolor": "white"
           },
           "zaxis": {
            "backgroundcolor": "#E5ECF6",
            "gridcolor": "white",
            "gridwidth": 2,
            "linecolor": "white",
            "showbackground": true,
            "ticks": "",
            "zerolinecolor": "white"
           }
          },
          "shapedefaults": {
           "line": {
            "color": "#2a3f5f"
           }
          },
          "ternary": {
           "aaxis": {
            "gridcolor": "white",
            "linecolor": "white",
            "ticks": ""
           },
           "baxis": {
            "gridcolor": "white",
            "linecolor": "white",
            "ticks": ""
           },
           "bgcolor": "#E5ECF6",
           "caxis": {
            "gridcolor": "white",
            "linecolor": "white",
            "ticks": ""
           }
          },
          "title": {
           "x": 0.05
          },
          "xaxis": {
           "automargin": true,
           "gridcolor": "white",
           "linecolor": "white",
           "ticks": "",
           "title": {
            "standoff": 15
           },
           "zerolinecolor": "white",
           "zerolinewidth": 2
          },
          "yaxis": {
           "automargin": true,
           "gridcolor": "white",
           "linecolor": "white",
           "ticks": "",
           "title": {
            "standoff": 15
           },
           "zerolinecolor": "white",
           "zerolinewidth": 2
          }
         }
        },
        "title": {
         "text": "Counts of Device Types for Manufacturing Defects"
        },
        "xaxis": {
         "anchor": "y",
         "domain": [
          0,
          1
         ],
         "tickangle": -45,
         "title": {
          "text": "Device Types"
         }
        },
        "yaxis": {
         "anchor": "x",
         "domain": [
          0,
          1
         ],
         "title": {
          "text": "Count"
         }
        }
       }
      },
      "text/html": [
       "<div>                        <script type=\"text/javascript\">window.PlotlyConfig = {MathJaxConfig: 'local'};</script>\n",
       "        <script charset=\"utf-8\" src=\"https://cdn.plot.ly/plotly-2.35.2.min.js\"></script>                <div id=\"8118a6f6-b351-405f-b64a-7fd50e10efdd\" class=\"plotly-graph-div\" style=\"height:100%; width:100%;\"></div>            <script type=\"text/javascript\">                                    window.PLOTLYENV=window.PLOTLYENV || {};                                    if (document.getElementById(\"8118a6f6-b351-405f-b64a-7fd50e10efdd\")) {                    Plotly.newPlot(                        \"8118a6f6-b351-405f-b64a-7fd50e10efdd\",                        [{\"alignmentgroup\":\"True\",\"hovertemplate\":\"Device Type=%{x}\\u003cbr\\u003eCount=%{y}\\u003cextra\\u003e\\u003c\\u002fextra\\u003e\",\"legendgroup\":\"\",\"marker\":{\"color\":\"#636efa\",\"pattern\":{\"shape\":\"\"}},\"name\":\"\",\"offsetgroup\":\"\",\"orientation\":\"v\",\"showlegend\":false,\"textposition\":\"auto\",\"x\":[\"Catheters\",\"Anesthesia Equipment\",\"Blood Pumps\",\"Other\",\"Trachea Devices\",\"Ventilation and Respiratory Devices\",\"Infusion Pumps\",\"Cardiac Assist Devices\",\"Imaging\\u002fRadiology Systems\",\"Syringe Equipment\",\"Surgery Procedure Kits\",\"Monitoring Devices\",\"Craniotomy Equipment\",\"COVID-19 Testing Kits\"],\"xaxis\":\"x\",\"y\":[146,50,46,38,31,28,20,19,11,6,4,3,2,1],\"yaxis\":\"y\",\"type\":\"bar\"}],                        {\"template\":{\"data\":{\"histogram2dcontour\":[{\"type\":\"histogram2dcontour\",\"colorbar\":{\"outlinewidth\":0,\"ticks\":\"\"},\"colorscale\":[[0.0,\"#0d0887\"],[0.1111111111111111,\"#46039f\"],[0.2222222222222222,\"#7201a8\"],[0.3333333333333333,\"#9c179e\"],[0.4444444444444444,\"#bd3786\"],[0.5555555555555556,\"#d8576b\"],[0.6666666666666666,\"#ed7953\"],[0.7777777777777778,\"#fb9f3a\"],[0.8888888888888888,\"#fdca26\"],[1.0,\"#f0f921\"]]}],\"choropleth\":[{\"type\":\"choropleth\",\"colorbar\":{\"outlinewidth\":0,\"ticks\":\"\"}}],\"histogram2d\":[{\"type\":\"histogram2d\",\"colorbar\":{\"outlinewidth\":0,\"ticks\":\"\"},\"colorscale\":[[0.0,\"#0d0887\"],[0.1111111111111111,\"#46039f\"],[0.2222222222222222,\"#7201a8\"],[0.3333333333333333,\"#9c179e\"],[0.4444444444444444,\"#bd3786\"],[0.5555555555555556,\"#d8576b\"],[0.6666666666666666,\"#ed7953\"],[0.7777777777777778,\"#fb9f3a\"],[0.8888888888888888,\"#fdca26\"],[1.0,\"#f0f921\"]]}],\"heatmap\":[{\"type\":\"heatmap\",\"colorbar\":{\"outlinewidth\":0,\"ticks\":\"\"},\"colorscale\":[[0.0,\"#0d0887\"],[0.1111111111111111,\"#46039f\"],[0.2222222222222222,\"#7201a8\"],[0.3333333333333333,\"#9c179e\"],[0.4444444444444444,\"#bd3786\"],[0.5555555555555556,\"#d8576b\"],[0.6666666666666666,\"#ed7953\"],[0.7777777777777778,\"#fb9f3a\"],[0.8888888888888888,\"#fdca26\"],[1.0,\"#f0f921\"]]}],\"heatmapgl\":[{\"type\":\"heatmapgl\",\"colorbar\":{\"outlinewidth\":0,\"ticks\":\"\"},\"colorscale\":[[0.0,\"#0d0887\"],[0.1111111111111111,\"#46039f\"],[0.2222222222222222,\"#7201a8\"],[0.3333333333333333,\"#9c179e\"],[0.4444444444444444,\"#bd3786\"],[0.5555555555555556,\"#d8576b\"],[0.6666666666666666,\"#ed7953\"],[0.7777777777777778,\"#fb9f3a\"],[0.8888888888888888,\"#fdca26\"],[1.0,\"#f0f921\"]]}],\"contourcarpet\":[{\"type\":\"contourcarpet\",\"colorbar\":{\"outlinewidth\":0,\"ticks\":\"\"}}],\"contour\":[{\"type\":\"contour\",\"colorbar\":{\"outlinewidth\":0,\"ticks\":\"\"},\"colorscale\":[[0.0,\"#0d0887\"],[0.1111111111111111,\"#46039f\"],[0.2222222222222222,\"#7201a8\"],[0.3333333333333333,\"#9c179e\"],[0.4444444444444444,\"#bd3786\"],[0.5555555555555556,\"#d8576b\"],[0.6666666666666666,\"#ed7953\"],[0.7777777777777778,\"#fb9f3a\"],[0.8888888888888888,\"#fdca26\"],[1.0,\"#f0f921\"]]}],\"surface\":[{\"type\":\"surface\",\"colorbar\":{\"outlinewidth\":0,\"ticks\":\"\"},\"colorscale\":[[0.0,\"#0d0887\"],[0.1111111111111111,\"#46039f\"],[0.2222222222222222,\"#7201a8\"],[0.3333333333333333,\"#9c179e\"],[0.4444444444444444,\"#bd3786\"],[0.5555555555555556,\"#d8576b\"],[0.6666666666666666,\"#ed7953\"],[0.7777777777777778,\"#fb9f3a\"],[0.8888888888888888,\"#fdca26\"],[1.0,\"#f0f921\"]]}],\"mesh3d\":[{\"type\":\"mesh3d\",\"colorbar\":{\"outlinewidth\":0,\"ticks\":\"\"}}],\"scatter\":[{\"fillpattern\":{\"fillmode\":\"overlay\",\"size\":10,\"solidity\":0.2},\"type\":\"scatter\"}],\"parcoords\":[{\"type\":\"parcoords\",\"line\":{\"colorbar\":{\"outlinewidth\":0,\"ticks\":\"\"}}}],\"scatterpolargl\":[{\"type\":\"scatterpolargl\",\"marker\":{\"colorbar\":{\"outlinewidth\":0,\"ticks\":\"\"}}}],\"bar\":[{\"error_x\":{\"color\":\"#2a3f5f\"},\"error_y\":{\"color\":\"#2a3f5f\"},\"marker\":{\"line\":{\"color\":\"#E5ECF6\",\"width\":0.5},\"pattern\":{\"fillmode\":\"overlay\",\"size\":10,\"solidity\":0.2}},\"type\":\"bar\"}],\"scattergeo\":[{\"type\":\"scattergeo\",\"marker\":{\"colorbar\":{\"outlinewidth\":0,\"ticks\":\"\"}}}],\"scatterpolar\":[{\"type\":\"scatterpolar\",\"marker\":{\"colorbar\":{\"outlinewidth\":0,\"ticks\":\"\"}}}],\"histogram\":[{\"marker\":{\"pattern\":{\"fillmode\":\"overlay\",\"size\":10,\"solidity\":0.2}},\"type\":\"histogram\"}],\"scattergl\":[{\"type\":\"scattergl\",\"marker\":{\"colorbar\":{\"outlinewidth\":0,\"ticks\":\"\"}}}],\"scatter3d\":[{\"type\":\"scatter3d\",\"line\":{\"colorbar\":{\"outlinewidth\":0,\"ticks\":\"\"}},\"marker\":{\"colorbar\":{\"outlinewidth\":0,\"ticks\":\"\"}}}],\"scattermapbox\":[{\"type\":\"scattermapbox\",\"marker\":{\"colorbar\":{\"outlinewidth\":0,\"ticks\":\"\"}}}],\"scatterternary\":[{\"type\":\"scatterternary\",\"marker\":{\"colorbar\":{\"outlinewidth\":0,\"ticks\":\"\"}}}],\"scattercarpet\":[{\"type\":\"scattercarpet\",\"marker\":{\"colorbar\":{\"outlinewidth\":0,\"ticks\":\"\"}}}],\"carpet\":[{\"aaxis\":{\"endlinecolor\":\"#2a3f5f\",\"gridcolor\":\"white\",\"linecolor\":\"white\",\"minorgridcolor\":\"white\",\"startlinecolor\":\"#2a3f5f\"},\"baxis\":{\"endlinecolor\":\"#2a3f5f\",\"gridcolor\":\"white\",\"linecolor\":\"white\",\"minorgridcolor\":\"white\",\"startlinecolor\":\"#2a3f5f\"},\"type\":\"carpet\"}],\"table\":[{\"cells\":{\"fill\":{\"color\":\"#EBF0F8\"},\"line\":{\"color\":\"white\"}},\"header\":{\"fill\":{\"color\":\"#C8D4E3\"},\"line\":{\"color\":\"white\"}},\"type\":\"table\"}],\"barpolar\":[{\"marker\":{\"line\":{\"color\":\"#E5ECF6\",\"width\":0.5},\"pattern\":{\"fillmode\":\"overlay\",\"size\":10,\"solidity\":0.2}},\"type\":\"barpolar\"}],\"pie\":[{\"automargin\":true,\"type\":\"pie\"}]},\"layout\":{\"autotypenumbers\":\"strict\",\"colorway\":[\"#636efa\",\"#EF553B\",\"#00cc96\",\"#ab63fa\",\"#FFA15A\",\"#19d3f3\",\"#FF6692\",\"#B6E880\",\"#FF97FF\",\"#FECB52\"],\"font\":{\"color\":\"#2a3f5f\"},\"hovermode\":\"closest\",\"hoverlabel\":{\"align\":\"left\"},\"paper_bgcolor\":\"white\",\"plot_bgcolor\":\"#E5ECF6\",\"polar\":{\"bgcolor\":\"#E5ECF6\",\"angularaxis\":{\"gridcolor\":\"white\",\"linecolor\":\"white\",\"ticks\":\"\"},\"radialaxis\":{\"gridcolor\":\"white\",\"linecolor\":\"white\",\"ticks\":\"\"}},\"ternary\":{\"bgcolor\":\"#E5ECF6\",\"aaxis\":{\"gridcolor\":\"white\",\"linecolor\":\"white\",\"ticks\":\"\"},\"baxis\":{\"gridcolor\":\"white\",\"linecolor\":\"white\",\"ticks\":\"\"},\"caxis\":{\"gridcolor\":\"white\",\"linecolor\":\"white\",\"ticks\":\"\"}},\"coloraxis\":{\"colorbar\":{\"outlinewidth\":0,\"ticks\":\"\"}},\"colorscale\":{\"sequential\":[[0.0,\"#0d0887\"],[0.1111111111111111,\"#46039f\"],[0.2222222222222222,\"#7201a8\"],[0.3333333333333333,\"#9c179e\"],[0.4444444444444444,\"#bd3786\"],[0.5555555555555556,\"#d8576b\"],[0.6666666666666666,\"#ed7953\"],[0.7777777777777778,\"#fb9f3a\"],[0.8888888888888888,\"#fdca26\"],[1.0,\"#f0f921\"]],\"sequentialminus\":[[0.0,\"#0d0887\"],[0.1111111111111111,\"#46039f\"],[0.2222222222222222,\"#7201a8\"],[0.3333333333333333,\"#9c179e\"],[0.4444444444444444,\"#bd3786\"],[0.5555555555555556,\"#d8576b\"],[0.6666666666666666,\"#ed7953\"],[0.7777777777777778,\"#fb9f3a\"],[0.8888888888888888,\"#fdca26\"],[1.0,\"#f0f921\"]],\"diverging\":[[0,\"#8e0152\"],[0.1,\"#c51b7d\"],[0.2,\"#de77ae\"],[0.3,\"#f1b6da\"],[0.4,\"#fde0ef\"],[0.5,\"#f7f7f7\"],[0.6,\"#e6f5d0\"],[0.7,\"#b8e186\"],[0.8,\"#7fbc41\"],[0.9,\"#4d9221\"],[1,\"#276419\"]]},\"xaxis\":{\"gridcolor\":\"white\",\"linecolor\":\"white\",\"ticks\":\"\",\"title\":{\"standoff\":15},\"zerolinecolor\":\"white\",\"automargin\":true,\"zerolinewidth\":2},\"yaxis\":{\"gridcolor\":\"white\",\"linecolor\":\"white\",\"ticks\":\"\",\"title\":{\"standoff\":15},\"zerolinecolor\":\"white\",\"automargin\":true,\"zerolinewidth\":2},\"scene\":{\"xaxis\":{\"backgroundcolor\":\"#E5ECF6\",\"gridcolor\":\"white\",\"linecolor\":\"white\",\"showbackground\":true,\"ticks\":\"\",\"zerolinecolor\":\"white\",\"gridwidth\":2},\"yaxis\":{\"backgroundcolor\":\"#E5ECF6\",\"gridcolor\":\"white\",\"linecolor\":\"white\",\"showbackground\":true,\"ticks\":\"\",\"zerolinecolor\":\"white\",\"gridwidth\":2},\"zaxis\":{\"backgroundcolor\":\"#E5ECF6\",\"gridcolor\":\"white\",\"linecolor\":\"white\",\"showbackground\":true,\"ticks\":\"\",\"zerolinecolor\":\"white\",\"gridwidth\":2}},\"shapedefaults\":{\"line\":{\"color\":\"#2a3f5f\"}},\"annotationdefaults\":{\"arrowcolor\":\"#2a3f5f\",\"arrowhead\":0,\"arrowwidth\":1},\"geo\":{\"bgcolor\":\"white\",\"landcolor\":\"#E5ECF6\",\"subunitcolor\":\"white\",\"showland\":true,\"showlakes\":true,\"lakecolor\":\"white\"},\"title\":{\"x\":0.05},\"mapbox\":{\"style\":\"light\"}}},\"xaxis\":{\"anchor\":\"y\",\"domain\":[0.0,1.0],\"title\":{\"text\":\"Device Types\"},\"tickangle\":-45},\"yaxis\":{\"anchor\":\"x\",\"domain\":[0.0,1.0],\"title\":{\"text\":\"Count\"}},\"legend\":{\"tracegroupgap\":0},\"title\":{\"text\":\"Counts of Device Types for Manufacturing Defects\"},\"barmode\":\"relative\"},                        {\"responsive\": true}                    )                };                            </script>        </div>"
      ],
      "text/plain": [
       "Figure({\n",
       "    'data': [{'alignmentgroup': 'True',\n",
       "              'hovertemplate': 'Device Type=%{x}<br>Count=%{y}<extra></extra>',\n",
       "              'legendgroup': '',\n",
       "              'marker': {'color': '#636efa', 'pattern': {'shape': ''}},\n",
       "              'name': '',\n",
       "              'offsetgroup': '',\n",
       "              'orientation': 'v',\n",
       "              'showlegend': False,\n",
       "              'textposition': 'auto',\n",
       "              'type': 'bar',\n",
       "              'x': array(['Catheters', 'Anesthesia Equipment', 'Blood Pumps', 'Other',\n",
       "                          'Trachea Devices', 'Ventilation and Respiratory Devices',\n",
       "                          'Infusion Pumps', 'Cardiac Assist Devices', 'Imaging/Radiology Systems',\n",
       "                          'Syringe Equipment', 'Surgery Procedure Kits', 'Monitoring Devices',\n",
       "                          'Craniotomy Equipment', 'COVID-19 Testing Kits'], dtype=object),\n",
       "              'xaxis': 'x',\n",
       "              'y': array([146,  50,  46,  38,  31,  28,  20,  19,  11,   6,   4,   3,   2,   1]),\n",
       "              'yaxis': 'y'}],\n",
       "    'layout': {'barmode': 'relative',\n",
       "               'legend': {'tracegroupgap': 0},\n",
       "               'template': '...',\n",
       "               'title': {'text': 'Counts of Device Types for Manufacturing Defects'},\n",
       "               'xaxis': {'anchor': 'y', 'domain': [0.0, 1.0], 'tickangle': -45, 'title': {'text': 'Device Types'}},\n",
       "               'yaxis': {'anchor': 'x', 'domain': [0.0, 1.0], 'title': {'text': 'Count'}}}\n",
       "})"
      ]
     },
     "execution_count": 217,
     "metadata": {},
     "output_type": "execute_result"
    }
   ],
   "source": [
    "filtered_df = main_df[(main_df[\"Recall Category\"] == 'Manufacturing Defects')]\n",
    "\n",
    "# Group by 'Device Type' and count occurrences\n",
    "recall_counts = filtered_df[\"Device Type\"].value_counts().reset_index()\n",
    "recall_counts.columns = ['Device Type', 'Count']\n",
    "\n",
    "# Create a bar chart using Plotly\n",
    "fig = px.bar(recall_counts, x='Device Type', y='Count', title='Counts of Device Types for Manufacturing Defects')\n",
    "\n",
    "# Update layout to rotate x-axis labels\n",
    "fig.update_layout(xaxis_title='Device Types', yaxis_title='Count', xaxis_tickangle=-45)\n",
    "\n",
    "fig"
   ]
  },
  {
   "cell_type": "markdown",
   "metadata": {},
   "source": [
    "## Lemmatization"
   ]
  },
  {
   "cell_type": "code",
   "execution_count": null,
   "metadata": {},
   "outputs": [],
   "source": [
    "import spacy\n",
    "\n",
    "nlp = spacy.load(\"en_core_web_sm\")\n",
    "df = pd.DataFrame(pd.read_csv(\"devices_food_drug_raw.csv\"))\n",
    "df['Reason for Recall'] = df['Reason for Recall'].str.lower().fillna('')\n",
    "\n",
    "def lemmatize_text(text):\n",
    "    return ' '.join([token.lemma_ for token in nlp(text) if not token.is_punct and not token.is_space])\n",
    "\n",
    "df['Lemmatized Reason'] = df['Reason for Recall'].apply(lemmatize_text)\n",
    "\n",
    "df.to_csv('lemmatized.csv', index=False)"
   ]
  },
  {
   "cell_type": "code",
   "execution_count": 26,
   "metadata": {},
   "outputs": [
    {
     "name": "stderr",
     "output_type": "stream",
     "text": [
      "/var/folders/4n/lg_9zm91673b9xcs269mpwg00000gp/T/ipykernel_59432/3492181976.py:1: DtypeWarning: Columns (0) have mixed types. Specify dtype option on import or set low_memory=False.\n",
      "  df = pd.DataFrame(pd.read_csv(\"lemmatized.csv\"))\n"
     ]
    }
   ],
   "source": [
    "df = pd.DataFrame(pd.read_csv(\"lemmatized.csv\"))\n",
    "\n",
    "# Remove day from date data\n",
    "df['Center Classification Date'] = pd.to_datetime(df['Center Classification Date'], errors='coerce')\n",
    "df['Year-Month'] = df['Center Classification Date'].dt.to_period('M').astype(str)  # Group by year and month\n",
    "df.drop(columns=['Center Classification Date'], inplace=True)\n",
    "\n",
    "df.to_csv('lemmatized1.csv', index=False)\n"
   ]
  },
  {
   "cell_type": "markdown",
   "metadata": {},
   "source": [
    "### Visualizations"
   ]
  }
 ],
 "metadata": {
  "kernelspec": {
   "display_name": "venv",
   "language": "python",
   "name": "python3"
  },
  "language_info": {
   "codemirror_mode": {
    "name": "ipython",
    "version": 3
   },
   "file_extension": ".py",
   "mimetype": "text/x-python",
   "name": "python",
   "nbconvert_exporter": "python",
   "pygments_lexer": "ipython3",
   "version": "3.9.6"
  }
 },
 "nbformat": 4,
 "nbformat_minor": 2
}
